{
 "cells": [
  {
   "cell_type": "markdown",
   "metadata": {},
   "source": [
    "Approach:\n",
    "1. Business model is to make one time purchase (buy real estate) and gradually recover costs through rental income\n",
    "2. Zip codes with the least Break even time (our profit metric) will be the most lucrative investments\n",
    "3. To compute break even time we require 2 facts per zip code i.e. current estate price & current rent (daily/weekly/monthly)\n",
    "4. Current estate price can be sourced from respective 'month-of-year' column in Zillow data, while 'price' column in AirBnb data indicates current rental prices\n",
    "5. Note that AirBnb data is at property level while Zillow data is at zip code level, so we need to aggregate AirBnb data by zip code before joining/mapping real estate values to respective rental prices\n",
    "6. To minimize rental data loss while merging datasets, 2 bed rent may be estimated from 1 bed or studio rent by considering average sq. ft. ratio of 2 bed to 1 bed or studio respectively (assumption 4); average sq. ft. for 2,1,0 beds in US can be obtained from 3rd party website like <a href='https://www.rentcafe.com/'>rentcafe.com</a>\n",
    "\n",
    "\n",
    "Assumptions:\n",
    "1. Rental property occupancy rate is 75%\n",
    "2. The time value of money discount rate is 0%\n",
    "3. No mortgage/interest rate is charged when buying real estate properties\n",
    "4. A 1000 sq. ft. property in Bronx or Manhattan generates 2x the revenue and costs 2x as any other 500 sq. ft. property within that same locale\n",
    "5. All 2 bedroom property types (Apartment, House, Loft, Condominium, etc.) have equal rent\n",
    "6. All 2 bedroom properties have equal sq. feet area"
   ]
  },
  {
   "cell_type": "code",
   "execution_count": 679,
   "metadata": {},
   "outputs": [],
   "source": [
    "#import necessary libraries\n",
    "import numpy as np\n",
    "import pandas as pd\n",
    "from datetime import datetime"
   ]
  },
  {
   "cell_type": "code",
   "execution_count": 680,
   "metadata": {},
   "outputs": [
    {
     "name": "stderr",
     "output_type": "stream",
     "text": [
      "c:\\program files (x86)\\python\\lib\\site-packages\\IPython\\core\\interactiveshell.py:2728: DtypeWarning: Columns (43,88) have mixed types. Specify dtype option on import or set low_memory=False.\n",
      "  interactivity=interactivity, compiler=compiler, result=result)\n"
     ]
    }
   ],
   "source": [
    "#input AirBnb data\n",
    "rentals=pd.read_csv('listings.csv')\n",
    "#input Zillow data\n",
    "estate=pd.read_csv('Zip_Zhvi_2bedroom.csv')"
   ]
  },
  {
   "cell_type": "code",
   "execution_count": 681,
   "metadata": {},
   "outputs": [
    {
     "name": "stdout",
     "output_type": "stream",
     "text": [
      "5\n",
      "2017\n"
     ]
    }
   ],
   "source": [
    "#assume current date as May 1, 2017; can be changed to use the actual date when working with fresh data\n",
    "curr_date='2017-05-01'\n",
    "curr_date=datetime.strptime(curr_date, '%Y-%m-%d')\n",
    "#extract current month-of-year from any given date\n",
    "curr_month=curr_date.month\n",
    "print(curr_month)\n",
    "curr_year=curr_date.year\n",
    "print(curr_year)"
   ]
  },
  {
   "cell_type": "code",
   "execution_count": 682,
   "metadata": {},
   "outputs": [
    {
     "data": {
      "text/plain": [
       "Index(['id', 'listing_url', 'scrape_id', 'last_scraped', 'name', 'summary',\n",
       "       'space', 'description', 'experiences_offered', 'neighborhood_overview',\n",
       "       'notes', 'transit', 'access', 'interaction', 'house_rules',\n",
       "       'thumbnail_url', 'medium_url', 'picture_url', 'xl_picture_url',\n",
       "       'host_id', 'host_url', 'host_name', 'host_since', 'host_location',\n",
       "       'host_about', 'host_response_time', 'host_response_rate',\n",
       "       'host_acceptance_rate', 'host_is_superhost', 'host_thumbnail_url',\n",
       "       'host_picture_url', 'host_neighbourhood', 'host_listings_count',\n",
       "       'host_total_listings_count', 'host_verifications',\n",
       "       'host_has_profile_pic', 'host_identity_verified', 'street',\n",
       "       'neighbourhood', 'neighbourhood_cleansed',\n",
       "       'neighbourhood_group_cleansed', 'city', 'state', 'zipcode', 'market',\n",
       "       'smart_location', 'country_code', 'country', 'latitude', 'longitude',\n",
       "       'is_location_exact', 'property_type', 'room_type', 'accommodates',\n",
       "       'bathrooms', 'bedrooms', 'beds', 'bed_type', 'amenities', 'square_feet',\n",
       "       'price', 'weekly_price', 'monthly_price', 'security_deposit',\n",
       "       'cleaning_fee', 'guests_included', 'extra_people', 'minimum_nights',\n",
       "       'maximum_nights', 'calendar_updated', 'has_availability',\n",
       "       'availability_30', 'availability_60', 'availability_90',\n",
       "       'availability_365', 'calendar_last_scraped', 'number_of_reviews',\n",
       "       'first_review', 'last_review', 'review_scores_rating',\n",
       "       'review_scores_accuracy', 'review_scores_cleanliness',\n",
       "       'review_scores_checkin', 'review_scores_communication',\n",
       "       'review_scores_location', 'review_scores_value', 'requires_license',\n",
       "       'license', 'jurisdiction_names', 'instant_bookable',\n",
       "       'cancellation_policy', 'require_guest_profile_picture',\n",
       "       'require_guest_phone_verification', 'calculated_host_listings_count',\n",
       "       'reviews_per_month'],\n",
       "      dtype='object')"
      ]
     },
     "execution_count": 682,
     "metadata": {},
     "output_type": "execute_result"
    }
   ],
   "source": [
    "rentals.columns"
   ]
  },
  {
   "cell_type": "code",
   "execution_count": 683,
   "metadata": {},
   "outputs": [],
   "source": [
    "#we consider only current month's rentals, i.e. May 2017 listings\n",
    "rentals['last_scraped_month']=pd.to_datetime(rentals['last_scraped']).dt.month\n",
    "curr_rentals=rentals[rentals['last_scraped_month']==curr_month]"
   ]
  },
  {
   "cell_type": "code",
   "execution_count": 684,
   "metadata": {},
   "outputs": [
    {
     "name": "stdout",
     "output_type": "stream",
     "text": [
      "40753\n",
      "New York, New York, United States           80\n",
      "US                                          10\n",
      "Los Angeles, California, United States       0\n",
      "San Francisco, California, United States     0\n",
      "Paris, Île-de-France, France                 0\n",
      "United States                                0\n",
      "Brooklyn, NY                                 0\n",
      "Brooklyn, New York, United States            0\n",
      "Boston, Massachusetts, United States         0\n",
      "London, England, United Kingdom              0\n",
      "Name: host_location, dtype: int32\n"
     ]
    }
   ],
   "source": [
    "print(rentals.shape[0])\n",
    "#~40k total listings\n",
    "print((curr_rentals['host_location'].value_counts(normalize=True).head(10)*100).astype(int))"
   ]
  },
  {
   "cell_type": "markdown",
   "metadata": {},
   "source": [
    "80% of rental host locations contain the string 'New York, New York, United States'"
   ]
  },
  {
   "cell_type": "code",
   "execution_count": 685,
   "metadata": {},
   "outputs": [
    {
     "name": "stdout",
     "output_type": "stream",
     "text": [
      "32706\n"
     ]
    }
   ],
   "source": [
    "#filter on locations within NYC\n",
    "flag=curr_rentals['host_location'].str.contains('New York, New York|Brooklyn|Bronx|Queens|Manhattan|Staten')\n",
    "curr_nyc_rentals=curr_rentals[flag==True]\n",
    "print(curr_nyc_rentals.shape[0])\n",
    "#~32k NYC listings"
   ]
  },
  {
   "cell_type": "code",
   "execution_count": 686,
   "metadata": {},
   "outputs": [
    {
     "data": {
      "text/plain": [
       "1.0     75.0\n",
       "2.0     12.0\n",
       "0.0      8.0\n",
       "3.0      4.0\n",
       "4.0      1.0\n",
       "5.0      0.0\n",
       "6.0      0.0\n",
       "7.0      0.0\n",
       "8.0      0.0\n",
       "10.0     0.0\n",
       "Name: bedrooms, dtype: float64"
      ]
     },
     "execution_count": 686,
     "metadata": {},
     "output_type": "execute_result"
    }
   ],
   "source": [
    "(curr_nyc_rentals['bedrooms'].value_counts(normalize=True)*100).round()"
   ]
  },
  {
   "cell_type": "markdown",
   "metadata": {},
   "source": [
    "75% rental listings are 1 beds, 12% are 2 beds, 8% are studios (0 beds) while remaining variations comprise 5%.\n",
    "\n",
    "We will filter out remaining variations for now.\n",
    "\n",
    "However instead of focusing only on 2 beds and losing 75+8=83% data, we estimate 2 bed rent from 1 and 0 bed listings.\n",
    "\n",
    "This will provide better support/validity to our end results.\n",
    "\n",
    "Since sq. ft. is missing from most rental listings, we use mean sq. ft. estimates for US homes \n",
    "\n",
    "(courtesy: https://www.rentcafe.com/blog/rental-market/us-average-apartment-size-trends-downward/).\n",
    "\n",
    "Thus we have on average across US (approximate values),  \n",
    "\n",
    "2 bed=1100 sq. ft.\n",
    "\n",
    "1 bed=750  sq. ft.\n",
    "\n",
    "0 bed=500  sq. ft.\n",
    "\n",
    "Consequently, \n",
    "\n",
    "2 bed rent = (1100/750) * 1 bed rent,\n",
    "\n",
    "2 bed rent = (1100/500) * 0 bed rent\n",
    "\n",
    "Simplifying, \n",
    "\n",
    "2 bed rent = 1.47 * 1 bed rent,\n",
    "\n",
    "2 bed rent = 2.20 * 0 bed rent\n",
    "\n",
    "Thus using above formula we compute a common derived column for 2,1 & 0 bed variations.\n"
   ]
  },
  {
   "cell_type": "code",
   "execution_count": 687,
   "metadata": {},
   "outputs": [
    {
     "name": "stdout",
     "output_type": "stream",
     "text": [
      "31101\n"
     ]
    }
   ],
   "source": [
    "curr_nyc_rentals=curr_nyc_rentals[curr_nyc_rentals['bedrooms'].isin(['2', '1', '0'])]\n",
    "print(curr_nyc_rentals.shape[0])\n",
    "#~31k NYC 2,1,0 bedroom listings"
   ]
  },
  {
   "cell_type": "code",
   "execution_count": 688,
   "metadata": {},
   "outputs": [
    {
     "name": "stdout",
     "output_type": "stream",
     "text": [
      "<class 'pandas.core.frame.DataFrame'>\n",
      "Int64Index: 31101 entries, 0 to 40743\n",
      "Data columns (total 5 columns):\n",
      "id               31101 non-null int64\n",
      "zipcode          30685 non-null object\n",
      "price            31101 non-null object\n",
      "weekly_price     7602 non-null object\n",
      "monthly_price    6259 non-null object\n",
      "dtypes: int64(1), object(4)\n",
      "memory usage: 971.9+ KB\n"
     ]
    }
   ],
   "source": [
    "curr_nyc_rentals[['id', 'zipcode', 'price', 'weekly_price', 'monthly_price']].info()"
   ]
  },
  {
   "cell_type": "markdown",
   "metadata": {},
   "source": [
    "Zip code has 416/31101 = 1.3% missing values.\n",
    "\n",
    "Price (nightly_price) has no missing values.\n",
    "\n",
    "Weekly_price has 23499/31101 = 75.6% missing values.\n",
    "\n",
    "Monthly_price has 24842/31101 = 79.9% missing values.\n",
    "\n",
    "Maybe nightly_price is mandatory field while weekly and monthly pricing are optional.\n",
    "\n",
    "Thus we ignore weekly and monthly prices in further analysis.\n"
   ]
  },
  {
   "cell_type": "code",
   "execution_count": 689,
   "metadata": {},
   "outputs": [
    {
     "name": "stdout",
     "output_type": "stream",
     "text": [
      "11211      1674\n",
      "11206      1152\n",
      "11221      1054\n",
      "10002       953\n",
      "11216       912\n",
      "10009       869\n",
      "11238       841\n",
      "11222.0     739\n",
      "11237       690\n",
      "10025       652\n",
      "Name: zipcode, dtype: int64\n",
      "11433         1\n",
      "11426-1175    1\n",
      "10281         1\n",
      "11103-3233    1\n",
      "10080         1\n",
      "11427.0       1\n",
      "10078         1\n",
      "11385-2308    1\n",
      "10119         1\n",
      "10279         1\n",
      "Name: zipcode, dtype: int64\n"
     ]
    }
   ],
   "source": [
    "#list top 10 NYC zip code count\n",
    "print(curr_nyc_rentals.zipcode.value_counts().head(10))\n",
    "print(curr_nyc_rentals.zipcode.value_counts().tail(10))"
   ]
  },
  {
   "cell_type": "markdown",
   "metadata": {},
   "source": [
    "Zip codes have floating values, some values in extended format and some garbage values."
   ]
  },
  {
   "cell_type": "code",
   "execution_count": 690,
   "metadata": {},
   "outputs": [
    {
     "data": {
      "text/plain": [
       "0"
      ]
     },
     "execution_count": 690,
     "metadata": {},
     "output_type": "execute_result"
    }
   ],
   "source": [
    "#verify uniqueness of AirBnb listing id column\n",
    "curr_nyc_rentals.duplicated('id').sum()"
   ]
  },
  {
   "cell_type": "code",
   "execution_count": 691,
   "metadata": {},
   "outputs": [
    {
     "name": "stdout",
     "output_type": "stream",
     "text": [
      "24553\n"
     ]
    }
   ],
   "source": [
    "#restrict zip code length to max. 5 digits and truncate trailing characters \n",
    "curr_nyc_rentals['zipcode2']=curr_nyc_rentals.zipcode.str[0:5]\n",
    "#restrict zip code length to just 5 digits and filter garbage strings \n",
    "curr_nyc_rentals=curr_nyc_rentals[curr_nyc_rentals['zipcode2'].str.len()==5]\n",
    "print(curr_nyc_rentals.shape[0])\n",
    "#~24.5k listings with valid NYC zip code"
   ]
  },
  {
   "cell_type": "code",
   "execution_count": 692,
   "metadata": {},
   "outputs": [
    {
     "data": {
      "text/plain": [
       "0"
      ]
     },
     "execution_count": 692,
     "metadata": {},
     "output_type": "execute_result"
    }
   ],
   "source": [
    "#check missing values in zipcode2 column\n",
    "curr_nyc_rentals['zipcode2'].isnull().sum()"
   ]
  },
  {
   "cell_type": "code",
   "execution_count": 693,
   "metadata": {},
   "outputs": [
    {
     "name": "stdout",
     "output_type": "stream",
     "text": [
      "11211    1674\n",
      "11206    1152\n",
      "11221    1054\n",
      "10002     953\n",
      "11216     912\n",
      "10009     869\n",
      "11238     841\n",
      "11237     690\n",
      "10025     652\n",
      "10011     619\n",
      "Name: zipcode2, dtype: int64\n"
     ]
    }
   ],
   "source": [
    "#convert zipcode2 column from string to numeric type\n",
    "curr_nyc_rentals['zipcode2']=pd.to_numeric(curr_nyc_rentals['zipcode2'])\n",
    "#list top 10 NYC zip code count\n",
    "print(curr_nyc_rentals.zipcode2.value_counts().head(10))"
   ]
  },
  {
   "cell_type": "code",
   "execution_count": 694,
   "metadata": {},
   "outputs": [],
   "source": [
    "#convert currency to plain numeric type by removing $ symbol and comma separator\n",
    "curr_nyc_rentals['price']=pd.to_numeric(curr_nyc_rentals['price'].replace('[\\$,]', '', regex=True))\n",
    "#we now normalize all listing prices to 2 bedroom apartment prices\n",
    "#create derived column 'effective price' such that \n",
    "#  2 bed rent = 1.47 * 1 bed rent, \n",
    "#  2 bed rent = 2.20 * 0 bed rent\n",
    "curr_nyc_rentals['effective_price']=curr_nyc_rentals['price']\n",
    "curr_nyc_rentals.loc[curr_nyc_rentals['bedrooms'] == 1, 'effective_price']=1.47*curr_nyc_rentals['price']\n",
    "curr_nyc_rentals.loc[curr_nyc_rentals['bedrooms'] == 0, 'effective_price']=2.2*curr_nyc_rentals['price']"
   ]
  },
  {
   "cell_type": "code",
   "execution_count": 695,
   "metadata": {},
   "outputs": [
    {
     "name": "stdout",
     "output_type": "stream",
     "text": [
      "181\n"
     ]
    }
   ],
   "source": [
    "#check count of unique zip codes in NYC\n",
    "print(curr_nyc_rentals.zipcode.value_counts().shape[0])"
   ]
  },
  {
   "cell_type": "markdown",
   "metadata": {},
   "source": [
    "We have rental listings from 181 unique NYC zip codes"
   ]
  },
  {
   "cell_type": "code",
   "execution_count": 696,
   "metadata": {},
   "outputs": [
    {
     "data": {
      "text/plain": [
       "0"
      ]
     },
     "execution_count": 696,
     "metadata": {},
     "output_type": "execute_result"
    }
   ],
   "source": [
    "#verify uniqueness of Zillow zip code column\n",
    "estate.duplicated('RegionName').sum()"
   ]
  },
  {
   "cell_type": "code",
   "execution_count": 697,
   "metadata": {},
   "outputs": [
    {
     "data": {
      "text/plain": [
       "Index(['RegionID', 'RegionName', 'City', 'State', 'Metro', 'CountyName',\n",
       "       'SizeRank', '1996-04', '1996-05', '1996-06',\n",
       "       ...\n",
       "       '2016-09', '2016-10', '2016-11', '2016-12', '2017-01', '2017-02',\n",
       "       '2017-03', '2017-04', '2017-05', '2017-06'],\n",
       "      dtype='object', length=262)"
      ]
     },
     "execution_count": 697,
     "metadata": {},
     "output_type": "execute_result"
    }
   ],
   "source": [
    "estate.columns"
   ]
  },
  {
   "cell_type": "markdown",
   "metadata": {},
   "source": [
    "'Month-of-year' series begins after first 7 columns.\n",
    "\n",
    "'Month-of-year' columns are arranged in ascending order of time from left to right."
   ]
  },
  {
   "cell_type": "code",
   "execution_count": 698,
   "metadata": {},
   "outputs": [
    {
     "data": {
      "text/plain": [
       "260"
      ]
     },
     "execution_count": 698,
     "metadata": {},
     "output_type": "execute_result"
    }
   ],
   "source": [
    "#function to input Zillow estate dataframe, current date string and output respective column index\n",
    "\n",
    "def find_estate_month_col_index(df, curr_date_str):\n",
    "        \n",
    "    #initialize necessary variables\n",
    "    curr_estate_index=-1\n",
    "    #extract month, year from a date string\n",
    "    curr_date=datetime.strptime(curr_date_str, '%Y-%m-%d')\n",
    "    curr_year=curr_date.year\n",
    "    curr_month=curr_date.month\n",
    "    \n",
    "    #start matching month & year from the rightmost column till the 8th column from left\n",
    "    for curr_estate_index in range(df.shape[1]-1,6,-1):\n",
    "        if(datetime.strptime(df.columns[curr_estate_index], '%Y-%m').year == curr_year and\n",
    "           datetime.strptime(df.columns[curr_estate_index], '%Y-%m').month == curr_month):\n",
    "            #found required column index\n",
    "            return curr_estate_index\n",
    "        \n",
    "    #column index not found\n",
    "    return curr_estate_index\n",
    "\n",
    "#assume current date as May 1, 2017; can be changed to use the actual date when working with fresh data\n",
    "curr_estate_index=find_estate_month_col_index(estate, '2017-05-01')\n",
    "curr_estate_index\n",
    "#we select the 261th or second last column!"
   ]
  },
  {
   "cell_type": "code",
   "execution_count": 699,
   "metadata": {},
   "outputs": [
    {
     "data": {
      "text/plain": [
       "Index(['RegionName', 'City', '2017-05'], dtype='object')"
      ]
     },
     "execution_count": 699,
     "metadata": {},
     "output_type": "execute_result"
    }
   ],
   "source": [
    "#retain only required columns (region name, city & estate price) from Zillow data\n",
    "curr_estate=estate.iloc[:,[1,2,curr_estate_index]]\n",
    "curr_estate.columns"
   ]
  },
  {
   "cell_type": "code",
   "execution_count": 700,
   "metadata": {},
   "outputs": [
    {
     "name": "stdout",
     "output_type": "stream",
     "text": [
      "<class 'pandas.core.frame.DataFrame'>\n",
      "RangeIndex: 8946 entries, 0 to 8945\n",
      "Data columns (total 3 columns):\n",
      "RegionName    8946 non-null int64\n",
      "City          8946 non-null object\n",
      "2017-05       8946 non-null int64\n",
      "dtypes: int64(2), object(1)\n",
      "memory usage: 174.8+ KB\n"
     ]
    }
   ],
   "source": [
    "curr_estate.info()\n",
    "#no missing values"
   ]
  },
  {
   "cell_type": "code",
   "execution_count": 701,
   "metadata": {},
   "outputs": [
    {
     "name": "stdout",
     "output_type": "stream",
     "text": [
      "8946\n",
      "25\n"
     ]
    }
   ],
   "source": [
    "print(curr_estate.shape[0])\n",
    "#~9k total zip codes\n",
    "#filter on NYC zip codes\n",
    "curr_nyc_estate=curr_estate[curr_estate['City']=='New York']\n",
    "print(curr_nyc_estate.shape[0])"
   ]
  },
  {
   "cell_type": "markdown",
   "metadata": {},
   "source": [
    "Real estate data contains just 25 NYC zip codes, other prominent NYC regions are absent!\n",
    "\n",
    "Although we have rental data for 181 zip codes, we can retain only 25 of them as estate prices are absent for remaining zip codes.\n",
    "\n",
    "However we cannot avoid this data loss, so just gotta live with it."
   ]
  },
  {
   "cell_type": "code",
   "execution_count": 702,
   "metadata": {},
   "outputs": [
    {
     "data": {
      "text/plain": [
       "Index(['RegionName', 'City', 'curr_estate_price'], dtype='object')"
      ]
     },
     "execution_count": 702,
     "metadata": {},
     "output_type": "execute_result"
    }
   ],
   "source": [
    "#rename rightmost column\n",
    "curr_nyc_estate=curr_nyc_estate.rename(columns={curr_nyc_estate.columns[curr_nyc_estate.shape[1]-1]:'curr_estate_price'})\n",
    "curr_nyc_estate.columns"
   ]
  },
  {
   "cell_type": "code",
   "execution_count": 703,
   "metadata": {},
   "outputs": [
    {
     "name": "stdout",
     "output_type": "stream",
     "text": [
      "<class 'pandas.core.frame.DataFrame'>\n",
      "Int64Index: 5626 entries, 0 to 5625\n",
      "Data columns (total 5 columns):\n",
      "RegionName      5626 non-null int64\n",
      "City            5626 non-null object\n",
      "estate_price    5626 non-null int64\n",
      "zipcode2        5626 non-null int64\n",
      "nightly_rent    5626 non-null float64\n",
      "dtypes: float64(1), int64(3), object(1)\n",
      "memory usage: 241.7+ KB\n"
     ]
    }
   ],
   "source": [
    "#join estate price data with rental listing data based on zip code\n",
    "combined=pd.merge(curr_nyc_estate, curr_nyc_rentals[['zipcode2', 'effective_price']], left_on='RegionName', right_on='zipcode2')\n",
    "combined=combined.rename(columns={'curr_estate_price':'estate_price', 'effective_price':'nightly_rent'})\n",
    "combined.info()"
   ]
  },
  {
   "cell_type": "markdown",
   "metadata": {},
   "source": [
    "None of the columns have missing values."
   ]
  },
  {
   "cell_type": "code",
   "execution_count": 704,
   "metadata": {},
   "outputs": [
    {
     "data": {
      "text/html": [
       "<div>\n",
       "<style>\n",
       "    .dataframe thead tr:only-child th {\n",
       "        text-align: right;\n",
       "    }\n",
       "\n",
       "    .dataframe thead th {\n",
       "        text-align: left;\n",
       "    }\n",
       "\n",
       "    .dataframe tbody tr th {\n",
       "        vertical-align: top;\n",
       "    }\n",
       "</style>\n",
       "<table border=\"1\" class=\"dataframe\">\n",
       "  <thead>\n",
       "    <tr>\n",
       "      <th></th>\n",
       "      <th colspan=\"2\" halign=\"left\">estate_price</th>\n",
       "      <th colspan=\"2\" halign=\"left\">nightly_rent</th>\n",
       "    </tr>\n",
       "    <tr>\n",
       "      <th></th>\n",
       "      <th>count</th>\n",
       "      <th>median</th>\n",
       "      <th>count</th>\n",
       "      <th>median</th>\n",
       "    </tr>\n",
       "    <tr>\n",
       "      <th>zipcode2</th>\n",
       "      <th></th>\n",
       "      <th></th>\n",
       "      <th></th>\n",
       "      <th></th>\n",
       "    </tr>\n",
       "  </thead>\n",
       "  <tbody>\n",
       "    <tr>\n",
       "      <th>10025</th>\n",
       "      <td>652</td>\n",
       "      <td>1390000</td>\n",
       "      <td>652</td>\n",
       "      <td>161.700</td>\n",
       "    </tr>\n",
       "    <tr>\n",
       "      <th>10011</th>\n",
       "      <td>619</td>\n",
       "      <td>2419700</td>\n",
       "      <td>619</td>\n",
       "      <td>286.650</td>\n",
       "    </tr>\n",
       "    <tr>\n",
       "      <th>10003</th>\n",
       "      <td>596</td>\n",
       "      <td>2109100</td>\n",
       "      <td>596</td>\n",
       "      <td>220.500</td>\n",
       "    </tr>\n",
       "    <tr>\n",
       "      <th>10014</th>\n",
       "      <td>554</td>\n",
       "      <td>2498400</td>\n",
       "      <td>554</td>\n",
       "      <td>294.000</td>\n",
       "    </tr>\n",
       "    <tr>\n",
       "      <th>11215</th>\n",
       "      <td>530</td>\n",
       "      <td>1066200</td>\n",
       "      <td>530</td>\n",
       "      <td>161.700</td>\n",
       "    </tr>\n",
       "    <tr>\n",
       "      <th>10023</th>\n",
       "      <td>374</td>\n",
       "      <td>2095000</td>\n",
       "      <td>374</td>\n",
       "      <td>275.000</td>\n",
       "    </tr>\n",
       "    <tr>\n",
       "      <th>11201</th>\n",
       "      <td>342</td>\n",
       "      <td>1407300</td>\n",
       "      <td>342</td>\n",
       "      <td>199.500</td>\n",
       "    </tr>\n",
       "    <tr>\n",
       "      <th>10128</th>\n",
       "      <td>331</td>\n",
       "      <td>1720500</td>\n",
       "      <td>331</td>\n",
       "      <td>199.000</td>\n",
       "    </tr>\n",
       "    <tr>\n",
       "      <th>10028</th>\n",
       "      <td>286</td>\n",
       "      <td>2015700</td>\n",
       "      <td>286</td>\n",
       "      <td>200.000</td>\n",
       "    </tr>\n",
       "    <tr>\n",
       "      <th>10013</th>\n",
       "      <td>273</td>\n",
       "      <td>3262200</td>\n",
       "      <td>273</td>\n",
       "      <td>257.250</td>\n",
       "    </tr>\n",
       "    <tr>\n",
       "      <th>11217</th>\n",
       "      <td>251</td>\n",
       "      <td>1276400</td>\n",
       "      <td>251</td>\n",
       "      <td>176.400</td>\n",
       "    </tr>\n",
       "    <tr>\n",
       "      <th>11231</th>\n",
       "      <td>230</td>\n",
       "      <td>1211700</td>\n",
       "      <td>230</td>\n",
       "      <td>175.000</td>\n",
       "    </tr>\n",
       "    <tr>\n",
       "      <th>10021</th>\n",
       "      <td>215</td>\n",
       "      <td>1774100</td>\n",
       "      <td>215</td>\n",
       "      <td>220.500</td>\n",
       "    </tr>\n",
       "    <tr>\n",
       "      <th>10022</th>\n",
       "      <td>204</td>\n",
       "      <td>1997800</td>\n",
       "      <td>204</td>\n",
       "      <td>237.500</td>\n",
       "    </tr>\n",
       "    <tr>\n",
       "      <th>10036</th>\n",
       "      <td>49</td>\n",
       "      <td>1717100</td>\n",
       "      <td>49</td>\n",
       "      <td>257.250</td>\n",
       "    </tr>\n",
       "    <tr>\n",
       "      <th>11234</th>\n",
       "      <td>27</td>\n",
       "      <td>477100</td>\n",
       "      <td>27</td>\n",
       "      <td>132.300</td>\n",
       "    </tr>\n",
       "    <tr>\n",
       "      <th>10304</th>\n",
       "      <td>26</td>\n",
       "      <td>321300</td>\n",
       "      <td>26</td>\n",
       "      <td>86.730</td>\n",
       "    </tr>\n",
       "    <tr>\n",
       "      <th>10305</th>\n",
       "      <td>20</td>\n",
       "      <td>418900</td>\n",
       "      <td>20</td>\n",
       "      <td>107.920</td>\n",
       "    </tr>\n",
       "    <tr>\n",
       "      <th>11434</th>\n",
       "      <td>16</td>\n",
       "      <td>380200</td>\n",
       "      <td>16</td>\n",
       "      <td>86.730</td>\n",
       "    </tr>\n",
       "    <tr>\n",
       "      <th>10306</th>\n",
       "      <td>11</td>\n",
       "      <td>347800</td>\n",
       "      <td>11</td>\n",
       "      <td>116.000</td>\n",
       "    </tr>\n",
       "    <tr>\n",
       "      <th>10314</th>\n",
       "      <td>8</td>\n",
       "      <td>352300</td>\n",
       "      <td>8</td>\n",
       "      <td>109.515</td>\n",
       "    </tr>\n",
       "    <tr>\n",
       "      <th>10312</th>\n",
       "      <td>7</td>\n",
       "      <td>351700</td>\n",
       "      <td>7</td>\n",
       "      <td>70.560</td>\n",
       "    </tr>\n",
       "    <tr>\n",
       "      <th>10303</th>\n",
       "      <td>4</td>\n",
       "      <td>322100</td>\n",
       "      <td>4</td>\n",
       "      <td>80.115</td>\n",
       "    </tr>\n",
       "    <tr>\n",
       "      <th>10308</th>\n",
       "      <td>1</td>\n",
       "      <td>402900</td>\n",
       "      <td>1</td>\n",
       "      <td>139.650</td>\n",
       "    </tr>\n",
       "  </tbody>\n",
       "</table>\n",
       "</div>"
      ],
      "text/plain": [
       "         estate_price          nightly_rent         \n",
       "                count   median        count   median\n",
       "zipcode2                                            \n",
       "10025             652  1390000          652  161.700\n",
       "10011             619  2419700          619  286.650\n",
       "10003             596  2109100          596  220.500\n",
       "10014             554  2498400          554  294.000\n",
       "11215             530  1066200          530  161.700\n",
       "10023             374  2095000          374  275.000\n",
       "11201             342  1407300          342  199.500\n",
       "10128             331  1720500          331  199.000\n",
       "10028             286  2015700          286  200.000\n",
       "10013             273  3262200          273  257.250\n",
       "11217             251  1276400          251  176.400\n",
       "11231             230  1211700          230  175.000\n",
       "10021             215  1774100          215  220.500\n",
       "10022             204  1997800          204  237.500\n",
       "10036              49  1717100           49  257.250\n",
       "11234              27   477100           27  132.300\n",
       "10304              26   321300           26   86.730\n",
       "10305              20   418900           20  107.920\n",
       "11434              16   380200           16   86.730\n",
       "10306              11   347800           11  116.000\n",
       "10314               8   352300            8  109.515\n",
       "10312               7   351700            7   70.560\n",
       "10303               4   322100            4   80.115\n",
       "10308               1   402900            1  139.650"
      ]
     },
     "execution_count": 704,
     "metadata": {},
     "output_type": "execute_result"
    }
   ],
   "source": [
    "#group by zipcode2, compute row count & median prices, sort in descending order of row count \n",
    "#median is preferred to mean in order to limit impact of outliers\n",
    "zip_summary=combined[['estate_price', 'zipcode2', 'nightly_rent']].groupby('zipcode2').agg(['count','median']).sort_values(by=[('estate_price', 'count')], ascending=False)\n",
    "zip_summary"
   ]
  },
  {
   "cell_type": "code",
   "execution_count": 705,
   "metadata": {},
   "outputs": [
    {
     "data": {
      "text/html": [
       "<div>\n",
       "<style>\n",
       "    .dataframe thead tr:only-child th {\n",
       "        text-align: right;\n",
       "    }\n",
       "\n",
       "    .dataframe thead th {\n",
       "        text-align: left;\n",
       "    }\n",
       "\n",
       "    .dataframe tbody tr th {\n",
       "        vertical-align: top;\n",
       "    }\n",
       "</style>\n",
       "<table border=\"1\" class=\"dataframe\">\n",
       "  <thead>\n",
       "    <tr style=\"text-align: right;\">\n",
       "      <th></th>\n",
       "      <th>Zip code</th>\n",
       "      <th>Estate price ($)</th>\n",
       "      <th>Median nightly rent ($)</th>\n",
       "    </tr>\n",
       "  </thead>\n",
       "  <tbody>\n",
       "    <tr>\n",
       "      <th>0</th>\n",
       "      <td>10025</td>\n",
       "      <td>1390000</td>\n",
       "      <td>161.70</td>\n",
       "    </tr>\n",
       "    <tr>\n",
       "      <th>1</th>\n",
       "      <td>10011</td>\n",
       "      <td>2419700</td>\n",
       "      <td>286.65</td>\n",
       "    </tr>\n",
       "    <tr>\n",
       "      <th>2</th>\n",
       "      <td>10003</td>\n",
       "      <td>2109100</td>\n",
       "      <td>220.50</td>\n",
       "    </tr>\n",
       "    <tr>\n",
       "      <th>3</th>\n",
       "      <td>10014</td>\n",
       "      <td>2498400</td>\n",
       "      <td>294.00</td>\n",
       "    </tr>\n",
       "    <tr>\n",
       "      <th>4</th>\n",
       "      <td>11215</td>\n",
       "      <td>1066200</td>\n",
       "      <td>161.70</td>\n",
       "    </tr>\n",
       "    <tr>\n",
       "      <th>5</th>\n",
       "      <td>10023</td>\n",
       "      <td>2095000</td>\n",
       "      <td>275.00</td>\n",
       "    </tr>\n",
       "    <tr>\n",
       "      <th>6</th>\n",
       "      <td>11201</td>\n",
       "      <td>1407300</td>\n",
       "      <td>199.50</td>\n",
       "    </tr>\n",
       "    <tr>\n",
       "      <th>7</th>\n",
       "      <td>10128</td>\n",
       "      <td>1720500</td>\n",
       "      <td>199.00</td>\n",
       "    </tr>\n",
       "    <tr>\n",
       "      <th>8</th>\n",
       "      <td>10028</td>\n",
       "      <td>2015700</td>\n",
       "      <td>200.00</td>\n",
       "    </tr>\n",
       "    <tr>\n",
       "      <th>9</th>\n",
       "      <td>10013</td>\n",
       "      <td>3262200</td>\n",
       "      <td>257.25</td>\n",
       "    </tr>\n",
       "    <tr>\n",
       "      <th>10</th>\n",
       "      <td>11217</td>\n",
       "      <td>1276400</td>\n",
       "      <td>176.40</td>\n",
       "    </tr>\n",
       "    <tr>\n",
       "      <th>11</th>\n",
       "      <td>11231</td>\n",
       "      <td>1211700</td>\n",
       "      <td>175.00</td>\n",
       "    </tr>\n",
       "    <tr>\n",
       "      <th>12</th>\n",
       "      <td>10021</td>\n",
       "      <td>1774100</td>\n",
       "      <td>220.50</td>\n",
       "    </tr>\n",
       "    <tr>\n",
       "      <th>13</th>\n",
       "      <td>10022</td>\n",
       "      <td>1997800</td>\n",
       "      <td>237.50</td>\n",
       "    </tr>\n",
       "  </tbody>\n",
       "</table>\n",
       "</div>"
      ],
      "text/plain": [
       "    Zip code  Estate price ($)  Median nightly rent ($)\n",
       "0      10025           1390000                   161.70\n",
       "1      10011           2419700                   286.65\n",
       "2      10003           2109100                   220.50\n",
       "3      10014           2498400                   294.00\n",
       "4      11215           1066200                   161.70\n",
       "5      10023           2095000                   275.00\n",
       "6      11201           1407300                   199.50\n",
       "7      10128           1720500                   199.00\n",
       "8      10028           2015700                   200.00\n",
       "9      10013           3262200                   257.25\n",
       "10     11217           1276400                   176.40\n",
       "11     11231           1211700                   175.00\n",
       "12     10021           1774100                   220.50\n",
       "13     10022           1997800                   237.50"
      ]
     },
     "execution_count": 705,
     "metadata": {},
     "output_type": "execute_result"
    }
   ],
   "source": [
    "#to eliminate weak groups, filter out zip codes having less than 50 data points for nightly rent\n",
    "zip_summary2=zip_summary[zip_summary[('nightly_rent', 'count')] >= 50][[('estate_price', 'median'), ('nightly_rent', 'median')]].reset_index()\n",
    "#flatten summary table, drop intermediate column level\n",
    "zip_summary2.columns=zip_summary2.columns.droplevel(1)\n",
    "#rename columns\n",
    "zip_summary2=zip_summary2.rename(columns={'zipcode2':'Zip code', 'estate_price':'Estate price ($)', 'nightly_rent':'Median nightly rent ($)'})\n",
    "zip_summary2"
   ]
  },
  {
   "cell_type": "markdown",
   "metadata": {},
   "source": [
    "Break even calculation:\n",
    "\n",
    "Assume expected occupancy factor of 0.75.\n",
    "\n",
    "Assume discount rate for rent as 0%, thus rent amounts received in future are as valuable as the present amount.\n",
    "\n",
    "Thus, \n",
    "\n",
    "Break even time = (Estate price) / (Total estimated rent * Expected occupancy)"
   ]
  },
  {
   "cell_type": "code",
   "execution_count": 706,
   "metadata": {},
   "outputs": [
    {
     "data": {
      "text/html": [
       "<div>\n",
       "<style>\n",
       "    .dataframe thead tr:only-child th {\n",
       "        text-align: right;\n",
       "    }\n",
       "\n",
       "    .dataframe thead th {\n",
       "        text-align: left;\n",
       "    }\n",
       "\n",
       "    .dataframe tbody tr th {\n",
       "        vertical-align: top;\n",
       "    }\n",
       "</style>\n",
       "<table border=\"1\" class=\"dataframe\">\n",
       "  <thead>\n",
       "    <tr style=\"text-align: right;\">\n",
       "      <th></th>\n",
       "      <th>Zip code</th>\n",
       "      <th>Estate price ($)</th>\n",
       "      <th>Median nightly rent ($)</th>\n",
       "      <th>Max. break even time (months)</th>\n",
       "      <th>Max. break even time (years)</th>\n",
       "    </tr>\n",
       "  </thead>\n",
       "  <tbody>\n",
       "    <tr>\n",
       "      <th>0</th>\n",
       "      <td>11215</td>\n",
       "      <td>1,066,200</td>\n",
       "      <td>162</td>\n",
       "      <td>294</td>\n",
       "      <td>25</td>\n",
       "    </tr>\n",
       "    <tr>\n",
       "      <th>1</th>\n",
       "      <td>11231</td>\n",
       "      <td>1,211,700</td>\n",
       "      <td>175</td>\n",
       "      <td>308</td>\n",
       "      <td>26</td>\n",
       "    </tr>\n",
       "    <tr>\n",
       "      <th>2</th>\n",
       "      <td>11201</td>\n",
       "      <td>1,407,300</td>\n",
       "      <td>200</td>\n",
       "      <td>314</td>\n",
       "      <td>27</td>\n",
       "    </tr>\n",
       "    <tr>\n",
       "      <th>3</th>\n",
       "      <td>11217</td>\n",
       "      <td>1,276,400</td>\n",
       "      <td>176</td>\n",
       "      <td>322</td>\n",
       "      <td>27</td>\n",
       "    </tr>\n",
       "    <tr>\n",
       "      <th>4</th>\n",
       "      <td>10023</td>\n",
       "      <td>2,095,000</td>\n",
       "      <td>275</td>\n",
       "      <td>339</td>\n",
       "      <td>29</td>\n",
       "    </tr>\n",
       "    <tr>\n",
       "      <th>5</th>\n",
       "      <td>10021</td>\n",
       "      <td>1,774,100</td>\n",
       "      <td>220</td>\n",
       "      <td>358</td>\n",
       "      <td>30</td>\n",
       "    </tr>\n",
       "    <tr>\n",
       "      <th>6</th>\n",
       "      <td>10022</td>\n",
       "      <td>1,997,800</td>\n",
       "      <td>238</td>\n",
       "      <td>374</td>\n",
       "      <td>32</td>\n",
       "    </tr>\n",
       "    <tr>\n",
       "      <th>7</th>\n",
       "      <td>10011</td>\n",
       "      <td>2,419,700</td>\n",
       "      <td>287</td>\n",
       "      <td>376</td>\n",
       "      <td>32</td>\n",
       "    </tr>\n",
       "    <tr>\n",
       "      <th>8</th>\n",
       "      <td>10014</td>\n",
       "      <td>2,498,400</td>\n",
       "      <td>294</td>\n",
       "      <td>378</td>\n",
       "      <td>32</td>\n",
       "    </tr>\n",
       "    <tr>\n",
       "      <th>9</th>\n",
       "      <td>10025</td>\n",
       "      <td>1,390,000</td>\n",
       "      <td>162</td>\n",
       "      <td>383</td>\n",
       "      <td>32</td>\n",
       "    </tr>\n",
       "    <tr>\n",
       "      <th>10</th>\n",
       "      <td>10128</td>\n",
       "      <td>1,720,500</td>\n",
       "      <td>199</td>\n",
       "      <td>385</td>\n",
       "      <td>33</td>\n",
       "    </tr>\n",
       "    <tr>\n",
       "      <th>11</th>\n",
       "      <td>10003</td>\n",
       "      <td>2,109,100</td>\n",
       "      <td>220</td>\n",
       "      <td>426</td>\n",
       "      <td>36</td>\n",
       "    </tr>\n",
       "    <tr>\n",
       "      <th>12</th>\n",
       "      <td>10028</td>\n",
       "      <td>2,015,700</td>\n",
       "      <td>200</td>\n",
       "      <td>448</td>\n",
       "      <td>38</td>\n",
       "    </tr>\n",
       "    <tr>\n",
       "      <th>13</th>\n",
       "      <td>10013</td>\n",
       "      <td>3,262,200</td>\n",
       "      <td>257</td>\n",
       "      <td>564</td>\n",
       "      <td>47</td>\n",
       "    </tr>\n",
       "  </tbody>\n",
       "</table>\n",
       "</div>"
      ],
      "text/plain": [
       "    Zip code Estate price ($)  Median nightly rent ($)  \\\n",
       "0      11215        1,066,200                      162   \n",
       "1      11231        1,211,700                      175   \n",
       "2      11201        1,407,300                      200   \n",
       "3      11217        1,276,400                      176   \n",
       "4      10023        2,095,000                      275   \n",
       "5      10021        1,774,100                      220   \n",
       "6      10022        1,997,800                      238   \n",
       "7      10011        2,419,700                      287   \n",
       "8      10014        2,498,400                      294   \n",
       "9      10025        1,390,000                      162   \n",
       "10     10128        1,720,500                      199   \n",
       "11     10003        2,109,100                      220   \n",
       "12     10028        2,015,700                      200   \n",
       "13     10013        3,262,200                      257   \n",
       "\n",
       "    Max. break even time (months)  Max. break even time (years)  \n",
       "0                             294                            25  \n",
       "1                             308                            26  \n",
       "2                             314                            27  \n",
       "3                             322                            27  \n",
       "4                             339                            29  \n",
       "5                             358                            30  \n",
       "6                             374                            32  \n",
       "7                             376                            32  \n",
       "8                             378                            32  \n",
       "9                             383                            32  \n",
       "10                            385                            33  \n",
       "11                            426                            36  \n",
       "12                            448                            38  \n",
       "13                            564                            47  "
      ]
     },
     "execution_count": 706,
     "metadata": {},
     "output_type": "execute_result"
    }
   ],
   "source": [
    "#round up break even time to get complete time periods\n",
    "#convert all columns to integer format and get rid of decimal places\n",
    "zip_summary2['Max. break even time (months)']=np.ceil(zip_summary2['Estate price ($)']/(zip_summary2['Median nightly rent ($)']*0.75*30)).astype(int)\n",
    "zip_summary2['Max. break even time (years)']=np.ceil(zip_summary2['Estate price ($)']/(zip_summary2['Median nightly rent ($)']*0.75*30*12)).astype(int)\n",
    "zip_summary2=zip_summary2.round({'Median nightly rent ($)':0, 'Estate price ($)':0}).astype(int)\n",
    "#format estate prices with thousands separator\n",
    "zip_summary2['Estate price ($)']=zip_summary2.apply(lambda x: \"{:,}\".format(x['Estate price ($)']), axis=1)\n",
    "#sort rows in ascending order of break even time\n",
    "zip_summary2=zip_summary2.sort_values(['Max. break even time (months)']).reset_index(drop=True)\n",
    "zip_summary2"
   ]
  },
  {
   "cell_type": "markdown",
   "metadata": {},
   "source": [
    "Above table displays all zip codes in descending order of Profit & ascending order of Break even time.\n",
    "\n",
    "Zip codes 11215 and 11231 have lower break-even times, and hence are more profitable.\n",
    "\n",
    "If selecting between zip codes with similar break even times (for ex. 11201 & 11217), we choose the smaller initial investment (in this case, 11217)."
   ]
  },
  {
   "cell_type": "markdown",
   "metadata": {},
   "source": [
    "Next steps:\n",
    "\n",
    "1. Consider historical trend in estate time series and accordingly vary future median rental income per zip code. This would basically increase/decrease rental income over months in accordance with changes in mean real estate price. Here we are assuming that rent is correlated to real estate price.\n",
    "\n",
    "2. Consider weekly/monthly rental prices whenever available and obtain more robust break even estimates. Weekly and monthly rent is cheaper than nightly rent, so considering longer terms would give us the worst-case scenario.\n",
    "\n",
    "3. Vary occupancy rate for each listing using availability data for next 30, 60, 90 and 365 days. Here we are additionally considering that host may be unable to rent, apart from whether he/she gets a prospect or not. Currently AirBnb disables host calendar for 2 reasons - host does not wish to rent, or someone already booked. But in this case, we are ignoring the 2nd reason as we don't have data to distinguish between the two. "
   ]
  },
  {
   "cell_type": "code",
   "execution_count": null,
   "metadata": {},
   "outputs": [],
   "source": []
  }
 ],
 "metadata": {
  "kernelspec": {
   "display_name": "Python 3",
   "language": "python",
   "name": "python3"
  },
  "language_info": {
   "codemirror_mode": {
    "name": "ipython",
    "version": 3
   },
   "file_extension": ".py",
   "mimetype": "text/x-python",
   "name": "python",
   "nbconvert_exporter": "python",
   "pygments_lexer": "ipython3",
   "version": "3.6.1"
  }
 },
 "nbformat": 4,
 "nbformat_minor": 2
}
